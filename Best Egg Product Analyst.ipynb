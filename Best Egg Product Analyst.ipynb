{
 "cells": [
  {
   "cell_type": "code",
   "execution_count": 1,
   "id": "0eae80ef",
   "metadata": {},
   "outputs": [],
   "source": [
    "import pandas as pd\n",
    "import numpy as np\n",
    "%matplotlib inline\n",
    "\n",
    "import matplotlib.pyplot as plt"
   ]
  },
  {
   "cell_type": "code",
   "execution_count": 2,
   "id": "b8e08506",
   "metadata": {},
   "outputs": [
    {
     "data": {
      "text/html": [
       "<div>\n",
       "<style scoped>\n",
       "    .dataframe tbody tr th:only-of-type {\n",
       "        vertical-align: middle;\n",
       "    }\n",
       "\n",
       "    .dataframe tbody tr th {\n",
       "        vertical-align: top;\n",
       "    }\n",
       "\n",
       "    .dataframe thead th {\n",
       "        text-align: right;\n",
       "    }\n",
       "</style>\n",
       "<table border=\"1\" class=\"dataframe\">\n",
       "  <thead>\n",
       "    <tr style=\"text-align: right;\">\n",
       "      <th></th>\n",
       "      <th>carid</th>\n",
       "      <th>vehicle</th>\n",
       "      <th>year</th>\n",
       "      <th>msrp</th>\n",
       "      <th>accelrate</th>\n",
       "      <th>mpg</th>\n",
       "      <th>mpgmpge</th>\n",
       "      <th>carclass</th>\n",
       "      <th>carclass_id</th>\n",
       "    </tr>\n",
       "  </thead>\n",
       "  <tbody>\n",
       "    <tr>\n",
       "      <th>0</th>\n",
       "      <td>1</td>\n",
       "      <td>Prius (1st Gen)</td>\n",
       "      <td>1997</td>\n",
       "      <td>24509.74</td>\n",
       "      <td>7.46</td>\n",
       "      <td>41.26</td>\n",
       "      <td>41.26</td>\n",
       "      <td>C</td>\n",
       "      <td>1</td>\n",
       "    </tr>\n",
       "    <tr>\n",
       "      <th>1</th>\n",
       "      <td>2</td>\n",
       "      <td>Tino</td>\n",
       "      <td>2000</td>\n",
       "      <td>35354.97</td>\n",
       "      <td>8.20</td>\n",
       "      <td>54.10</td>\n",
       "      <td>54.10</td>\n",
       "      <td>C</td>\n",
       "      <td>1</td>\n",
       "    </tr>\n",
       "    <tr>\n",
       "      <th>2</th>\n",
       "      <td>3</td>\n",
       "      <td>Prius (2nd Gen)</td>\n",
       "      <td>2000</td>\n",
       "      <td>26832.25</td>\n",
       "      <td>7.97</td>\n",
       "      <td>45.23</td>\n",
       "      <td>45.23</td>\n",
       "      <td>C</td>\n",
       "      <td>1</td>\n",
       "    </tr>\n",
       "    <tr>\n",
       "      <th>3</th>\n",
       "      <td>4</td>\n",
       "      <td>Insight</td>\n",
       "      <td>2000</td>\n",
       "      <td>18936.41</td>\n",
       "      <td>9.52</td>\n",
       "      <td>53.00</td>\n",
       "      <td>53.00</td>\n",
       "      <td>TS</td>\n",
       "      <td>7</td>\n",
       "    </tr>\n",
       "    <tr>\n",
       "      <th>4</th>\n",
       "      <td>5</td>\n",
       "      <td>Civic (1st Gen)</td>\n",
       "      <td>2001</td>\n",
       "      <td>25833.38</td>\n",
       "      <td>7.04</td>\n",
       "      <td>47.04</td>\n",
       "      <td>47.04</td>\n",
       "      <td>C</td>\n",
       "      <td>1</td>\n",
       "    </tr>\n",
       "    <tr>\n",
       "      <th>...</th>\n",
       "      <td>...</td>\n",
       "      <td>...</td>\n",
       "      <td>...</td>\n",
       "      <td>...</td>\n",
       "      <td>...</td>\n",
       "      <td>...</td>\n",
       "      <td>...</td>\n",
       "      <td>...</td>\n",
       "      <td>...</td>\n",
       "    </tr>\n",
       "    <tr>\n",
       "      <th>95</th>\n",
       "      <td>96</td>\n",
       "      <td>ActiveHybrid 7i</td>\n",
       "      <td>2011</td>\n",
       "      <td>102605.66</td>\n",
       "      <td>18.18</td>\n",
       "      <td>20.00</td>\n",
       "      <td>20.00</td>\n",
       "      <td>M</td>\n",
       "      <td>3</td>\n",
       "    </tr>\n",
       "    <tr>\n",
       "      <th>96</th>\n",
       "      <td>97</td>\n",
       "      <td>Prius C</td>\n",
       "      <td>2012</td>\n",
       "      <td>19006.62</td>\n",
       "      <td>9.35</td>\n",
       "      <td>50.00</td>\n",
       "      <td>50.00</td>\n",
       "      <td>C</td>\n",
       "      <td>1</td>\n",
       "    </tr>\n",
       "    <tr>\n",
       "      <th>97</th>\n",
       "      <td>98</td>\n",
       "      <td>Prius PHV</td>\n",
       "      <td>2012</td>\n",
       "      <td>32095.61</td>\n",
       "      <td>8.82</td>\n",
       "      <td>50.00</td>\n",
       "      <td>95.00</td>\n",
       "      <td>M</td>\n",
       "      <td>3</td>\n",
       "    </tr>\n",
       "    <tr>\n",
       "      <th>98</th>\n",
       "      <td>99</td>\n",
       "      <td>Ampera</td>\n",
       "      <td>2012</td>\n",
       "      <td>31739.55</td>\n",
       "      <td>11.11</td>\n",
       "      <td>37.00</td>\n",
       "      <td>98.00</td>\n",
       "      <td>C</td>\n",
       "      <td>1</td>\n",
       "    </tr>\n",
       "    <tr>\n",
       "      <th>99</th>\n",
       "      <td>100</td>\n",
       "      <td>ActiveHybrid 5</td>\n",
       "      <td>2012</td>\n",
       "      <td>62180.23</td>\n",
       "      <td>16.67</td>\n",
       "      <td>26.00</td>\n",
       "      <td>26.00</td>\n",
       "      <td>M</td>\n",
       "      <td>3</td>\n",
       "    </tr>\n",
       "  </tbody>\n",
       "</table>\n",
       "<p>100 rows × 9 columns</p>\n",
       "</div>"
      ],
      "text/plain": [
       "    carid          vehicle  year       msrp  accelrate    mpg  mpgmpge  \\\n",
       "0       1  Prius (1st Gen)  1997   24509.74       7.46  41.26    41.26   \n",
       "1       2             Tino  2000   35354.97       8.20  54.10    54.10   \n",
       "2       3  Prius (2nd Gen)  2000   26832.25       7.97  45.23    45.23   \n",
       "3       4          Insight  2000   18936.41       9.52  53.00    53.00   \n",
       "4       5  Civic (1st Gen)  2001   25833.38       7.04  47.04    47.04   \n",
       "..    ...              ...   ...        ...        ...    ...      ...   \n",
       "95     96  ActiveHybrid 7i  2011  102605.66      18.18  20.00    20.00   \n",
       "96     97          Prius C  2012   19006.62       9.35  50.00    50.00   \n",
       "97     98        Prius PHV  2012   32095.61       8.82  50.00    95.00   \n",
       "98     99           Ampera  2012   31739.55      11.11  37.00    98.00   \n",
       "99    100   ActiveHybrid 5  2012   62180.23      16.67  26.00    26.00   \n",
       "\n",
       "   carclass  carclass_id  \n",
       "0         C            1  \n",
       "1         C            1  \n",
       "2         C            1  \n",
       "3        TS            7  \n",
       "4         C            1  \n",
       "..      ...          ...  \n",
       "95        M            3  \n",
       "96        C            1  \n",
       "97        M            3  \n",
       "98        C            1  \n",
       "99        M            3  \n",
       "\n",
       "[100 rows x 9 columns]"
      ]
     },
     "execution_count": 2,
     "metadata": {},
     "output_type": "execute_result"
    }
   ],
   "source": [
    "car = pd.read_csv('hybrid_vehicle_price_data.csv')\n",
    "car.head(100)"
   ]
  },
  {
   "cell_type": "markdown",
   "id": "224b89a8",
   "metadata": {},
   "source": [
    "After importing the inital dataset, I would like to do some exploratory data analysis to understand what I am working with, thus some simple check around amount of null values, data type, mean, count of rows and histogram. This is to weed out any outlier and test case that I might need to be aware of when cleaning up data. "
   ]
  },
  {
   "cell_type": "code",
   "execution_count": 3,
   "id": "c91cc34f",
   "metadata": {},
   "outputs": [
    {
     "data": {
      "text/plain": [
       "carid          0\n",
       "vehicle        0\n",
       "year           0\n",
       "msrp           0\n",
       "accelrate      0\n",
       "mpg            0\n",
       "mpgmpge        0\n",
       "carclass       0\n",
       "carclass_id    0\n",
       "dtype: int64"
      ]
     },
     "execution_count": 3,
     "metadata": {},
     "output_type": "execute_result"
    }
   ],
   "source": [
    "car.isnull().sum()"
   ]
  },
  {
   "cell_type": "code",
   "execution_count": 6,
   "id": "0bf32726",
   "metadata": {},
   "outputs": [
    {
     "data": {
      "text/html": [
       "<div>\n",
       "<style scoped>\n",
       "    .dataframe tbody tr th:only-of-type {\n",
       "        vertical-align: middle;\n",
       "    }\n",
       "\n",
       "    .dataframe tbody tr th {\n",
       "        vertical-align: top;\n",
       "    }\n",
       "\n",
       "    .dataframe thead th {\n",
       "        text-align: right;\n",
       "    }\n",
       "</style>\n",
       "<table border=\"1\" class=\"dataframe\">\n",
       "  <thead>\n",
       "    <tr style=\"text-align: right;\">\n",
       "      <th></th>\n",
       "      <th>carid</th>\n",
       "      <th>year</th>\n",
       "      <th>msrp</th>\n",
       "      <th>accelrate</th>\n",
       "      <th>mpg</th>\n",
       "      <th>mpgmpge</th>\n",
       "      <th>carclass_id</th>\n",
       "    </tr>\n",
       "  </thead>\n",
       "  <tbody>\n",
       "    <tr>\n",
       "      <th>count</th>\n",
       "      <td>153.000000</td>\n",
       "      <td>153.000000</td>\n",
       "      <td>153.000000</td>\n",
       "      <td>153.000000</td>\n",
       "      <td>153.000000</td>\n",
       "      <td>153.000000</td>\n",
       "      <td>153.000000</td>\n",
       "    </tr>\n",
       "    <tr>\n",
       "      <th>mean</th>\n",
       "      <td>77.117647</td>\n",
       "      <td>2009.718954</td>\n",
       "      <td>39319.434706</td>\n",
       "      <td>11.958497</td>\n",
       "      <td>34.797451</td>\n",
       "      <td>38.453268</td>\n",
       "      <td>3.607843</td>\n",
       "    </tr>\n",
       "    <tr>\n",
       "      <th>std</th>\n",
       "      <td>44.492599</td>\n",
       "      <td>3.459270</td>\n",
       "      <td>21421.126089</td>\n",
       "      <td>2.940225</td>\n",
       "      <td>10.972522</td>\n",
       "      <td>18.363146</td>\n",
       "      <td>1.964271</td>\n",
       "    </tr>\n",
       "    <tr>\n",
       "      <th>min</th>\n",
       "      <td>1.000000</td>\n",
       "      <td>1997.000000</td>\n",
       "      <td>11849.430000</td>\n",
       "      <td>6.290000</td>\n",
       "      <td>17.000000</td>\n",
       "      <td>17.000000</td>\n",
       "      <td>1.000000</td>\n",
       "    </tr>\n",
       "    <tr>\n",
       "      <th>25%</th>\n",
       "      <td>39.000000</td>\n",
       "      <td>2008.000000</td>\n",
       "      <td>24995.000000</td>\n",
       "      <td>9.520000</td>\n",
       "      <td>26.000000</td>\n",
       "      <td>26.000000</td>\n",
       "      <td>2.000000</td>\n",
       "    </tr>\n",
       "    <tr>\n",
       "      <th>50%</th>\n",
       "      <td>77.000000</td>\n",
       "      <td>2011.000000</td>\n",
       "      <td>31950.000000</td>\n",
       "      <td>11.630000</td>\n",
       "      <td>33.000000</td>\n",
       "      <td>33.640000</td>\n",
       "      <td>3.000000</td>\n",
       "    </tr>\n",
       "    <tr>\n",
       "      <th>75%</th>\n",
       "      <td>115.000000</td>\n",
       "      <td>2013.000000</td>\n",
       "      <td>49650.000000</td>\n",
       "      <td>13.470000</td>\n",
       "      <td>41.260000</td>\n",
       "      <td>43.000000</td>\n",
       "      <td>6.000000</td>\n",
       "    </tr>\n",
       "    <tr>\n",
       "      <th>max</th>\n",
       "      <td>154.000000</td>\n",
       "      <td>2013.000000</td>\n",
       "      <td>118543.600000</td>\n",
       "      <td>20.410000</td>\n",
       "      <td>72.920000</td>\n",
       "      <td>100.000000</td>\n",
       "      <td>7.000000</td>\n",
       "    </tr>\n",
       "  </tbody>\n",
       "</table>\n",
       "</div>"
      ],
      "text/plain": [
       "            carid         year           msrp   accelrate         mpg  \\\n",
       "count  153.000000   153.000000     153.000000  153.000000  153.000000   \n",
       "mean    77.117647  2009.718954   39319.434706   11.958497   34.797451   \n",
       "std     44.492599     3.459270   21421.126089    2.940225   10.972522   \n",
       "min      1.000000  1997.000000   11849.430000    6.290000   17.000000   \n",
       "25%     39.000000  2008.000000   24995.000000    9.520000   26.000000   \n",
       "50%     77.000000  2011.000000   31950.000000   11.630000   33.000000   \n",
       "75%    115.000000  2013.000000   49650.000000   13.470000   41.260000   \n",
       "max    154.000000  2013.000000  118543.600000   20.410000   72.920000   \n",
       "\n",
       "          mpgmpge  carclass_id  \n",
       "count  153.000000   153.000000  \n",
       "mean    38.453268     3.607843  \n",
       "std     18.363146     1.964271  \n",
       "min     17.000000     1.000000  \n",
       "25%     26.000000     2.000000  \n",
       "50%     33.640000     3.000000  \n",
       "75%     43.000000     6.000000  \n",
       "max    100.000000     7.000000  "
      ]
     },
     "execution_count": 6,
     "metadata": {},
     "output_type": "execute_result"
    }
   ],
   "source": [
    "car.describe()"
   ]
  },
  {
   "cell_type": "code",
   "execution_count": 7,
   "id": "aad75316",
   "metadata": {},
   "outputs": [
    {
     "name": "stdout",
     "output_type": "stream",
     "text": [
      "<class 'pandas.core.frame.DataFrame'>\n",
      "RangeIndex: 153 entries, 0 to 152\n",
      "Data columns (total 9 columns):\n",
      " #   Column       Non-Null Count  Dtype  \n",
      "---  ------       --------------  -----  \n",
      " 0   carid        153 non-null    int64  \n",
      " 1   vehicle      153 non-null    object \n",
      " 2   year         153 non-null    int64  \n",
      " 3   msrp         153 non-null    float64\n",
      " 4   accelrate    153 non-null    float64\n",
      " 5   mpg          153 non-null    float64\n",
      " 6   mpgmpge      153 non-null    float64\n",
      " 7   carclass     153 non-null    object \n",
      " 8   carclass_id  153 non-null    int64  \n",
      "dtypes: float64(4), int64(3), object(2)\n",
      "memory usage: 10.9+ KB\n"
     ]
    }
   ],
   "source": [
    "car.info()"
   ]
  },
  {
   "cell_type": "code",
   "execution_count": 8,
   "id": "d144d3d8",
   "metadata": {},
   "outputs": [
    {
     "data": {
      "text/plain": [
       "153"
      ]
     },
     "execution_count": 8,
     "metadata": {},
     "output_type": "execute_result"
    }
   ],
   "source": [
    "len(car)"
   ]
  },
  {
   "cell_type": "markdown",
   "id": "844c4218",
   "metadata": {},
   "source": [
    "Dropping car id since it's just a column to index each row and carclassid since it's a dupe of carclass."
   ]
  },
  {
   "cell_type": "code",
   "execution_count": 10,
   "id": "4d1a91bf",
   "metadata": {},
   "outputs": [
    {
     "data": {
      "text/html": [
       "<div>\n",
       "<style scoped>\n",
       "    .dataframe tbody tr th:only-of-type {\n",
       "        vertical-align: middle;\n",
       "    }\n",
       "\n",
       "    .dataframe tbody tr th {\n",
       "        vertical-align: top;\n",
       "    }\n",
       "\n",
       "    .dataframe thead th {\n",
       "        text-align: right;\n",
       "    }\n",
       "</style>\n",
       "<table border=\"1\" class=\"dataframe\">\n",
       "  <thead>\n",
       "    <tr style=\"text-align: right;\">\n",
       "      <th></th>\n",
       "      <th>msrp</th>\n",
       "      <th>vehicle</th>\n",
       "      <th>year</th>\n",
       "      <th>accelrate</th>\n",
       "      <th>mpg</th>\n",
       "      <th>mpgmpge</th>\n",
       "      <th>carclass</th>\n",
       "    </tr>\n",
       "  </thead>\n",
       "  <tbody>\n",
       "    <tr>\n",
       "      <th>0</th>\n",
       "      <td>24509.74</td>\n",
       "      <td>Prius (1st Gen)</td>\n",
       "      <td>1997</td>\n",
       "      <td>7.46</td>\n",
       "      <td>41.26</td>\n",
       "      <td>41.26</td>\n",
       "      <td>C</td>\n",
       "    </tr>\n",
       "    <tr>\n",
       "      <th>1</th>\n",
       "      <td>35354.97</td>\n",
       "      <td>Tino</td>\n",
       "      <td>2000</td>\n",
       "      <td>8.20</td>\n",
       "      <td>54.10</td>\n",
       "      <td>54.10</td>\n",
       "      <td>C</td>\n",
       "    </tr>\n",
       "    <tr>\n",
       "      <th>2</th>\n",
       "      <td>26832.25</td>\n",
       "      <td>Prius (2nd Gen)</td>\n",
       "      <td>2000</td>\n",
       "      <td>7.97</td>\n",
       "      <td>45.23</td>\n",
       "      <td>45.23</td>\n",
       "      <td>C</td>\n",
       "    </tr>\n",
       "    <tr>\n",
       "      <th>3</th>\n",
       "      <td>18936.41</td>\n",
       "      <td>Insight</td>\n",
       "      <td>2000</td>\n",
       "      <td>9.52</td>\n",
       "      <td>53.00</td>\n",
       "      <td>53.00</td>\n",
       "      <td>TS</td>\n",
       "    </tr>\n",
       "    <tr>\n",
       "      <th>4</th>\n",
       "      <td>25833.38</td>\n",
       "      <td>Civic (1st Gen)</td>\n",
       "      <td>2001</td>\n",
       "      <td>7.04</td>\n",
       "      <td>47.04</td>\n",
       "      <td>47.04</td>\n",
       "      <td>C</td>\n",
       "    </tr>\n",
       "  </tbody>\n",
       "</table>\n",
       "</div>"
      ],
      "text/plain": [
       "       msrp          vehicle  year  accelrate    mpg  mpgmpge carclass\n",
       "0  24509.74  Prius (1st Gen)  1997       7.46  41.26    41.26        C\n",
       "1  35354.97             Tino  2000       8.20  54.10    54.10        C\n",
       "2  26832.25  Prius (2nd Gen)  2000       7.97  45.23    45.23        C\n",
       "3  18936.41          Insight  2000       9.52  53.00    53.00       TS\n",
       "4  25833.38  Civic (1st Gen)  2001       7.04  47.04    47.04        C"
      ]
     },
     "execution_count": 10,
     "metadata": {},
     "output_type": "execute_result"
    }
   ],
   "source": [
    "car = car[[\n",
    "     #  'carid','carclass_id'\n",
    "    'msrp','vehicle','year','accelrate','mpg','mpgmpge','carclass']]\n",
    "\n",
    "car.head()"
   ]
  },
  {
   "cell_type": "code",
   "execution_count": 11,
   "id": "81e689df",
   "metadata": {},
   "outputs": [
    {
     "data": {
      "image/png": "[encoded data removed]",
      "text/plain": [
       "<Figure size 1440x1080 with 6 Axes>"
      ]
     },
     "metadata": {
      "needs_background": "light"
     },
     "output_type": "display_data"
    }
   ],
   "source": [
    "%matplotlib inline\n",
    "\n",
    "import matplotlib.pyplot as plt\n",
    "\n",
    "car.hist(bins=50, figsize=(20,15))\n",
    "\n",
    "plt.show()"
   ]
  },
  {
   "cell_type": "markdown",
   "id": "e4393d16",
   "metadata": {},
   "source": [
    "To get a deeper understanding of the relationship between the dependent and independent variable (MSRP), I would like to see some plots between each relations to get a general understanding of the nature of the data. "
   ]
  },
  {
   "cell_type": "code",
   "execution_count": 12,
   "id": "b502f099",
   "metadata": {},
   "outputs": [
    {
     "data": {
      "image/png": "[encoded data removed]",
      "text/plain": [
       "<Figure size 432x288 with 1 Axes>"
      ]
     },
     "metadata": {
      "needs_background": "light"
     },
     "output_type": "display_data"
    }
   ],
   "source": [
    "car.plot(kind=\"scatter\", x=\"accelrate\", y =\"msrp\")\n",
    "plt.show()"
   ]
  },
  {
   "cell_type": "code",
   "execution_count": 13,
   "id": "3ce0e5e0",
   "metadata": {},
   "outputs": [
    {
     "data": {
      "image/png": "[encoded data removed]",
      "text/plain": [
       "<Figure size 432x288 with 1 Axes>"
      ]
     },
     "metadata": {
      "needs_background": "light"
     },
     "output_type": "display_data"
    }
   ],
   "source": [
    "car.plot(kind=\"scatter\", x=\"year\", y =\"msrp\")\n",
    "plt.show()"
   ]
  },
  {
   "cell_type": "code",
   "execution_count": 15,
   "id": "6fc8a0ae",
   "metadata": {},
   "outputs": [
    {
     "data": {
      "image/png": "[encoded data removed]",
      "text/plain": [
       "<Figure size 432x288 with 1 Axes>"
      ]
     },
     "metadata": {
      "needs_background": "light"
     },
     "output_type": "display_data"
    }
   ],
   "source": [
    "car.plot(kind=\"scatter\", x=\"mpgmpge\", y =\"msrp\")\n",
    "plt.show()"
   ]
  },
  {
   "cell_type": "code",
   "execution_count": 16,
   "id": "08fe5de2",
   "metadata": {},
   "outputs": [
    {
     "data": {
      "image/png": "[encoded data removed]",
      "text/plain": [
       "<Figure size 432x288 with 1 Axes>"
      ]
     },
     "metadata": {
      "needs_background": "light"
     },
     "output_type": "display_data"
    }
   ],
   "source": [
    "car.plot(kind=\"scatter\", x=\"mpg\", y =\"msrp\")\n",
    "plt.show()"
   ]
  },
  {
   "cell_type": "code",
   "execution_count": 17,
   "id": "a8b9976b",
   "metadata": {},
   "outputs": [
    {
     "data": {
      "text/plain": [
       "msrp         1.000000\n",
       "accelrate    0.695578\n",
       "year         0.209786\n",
       "mpgmpge     -0.372219\n",
       "mpg         -0.531826\n",
       "Name: msrp, dtype: float64"
      ]
     },
     "execution_count": 17,
     "metadata": {},
     "output_type": "execute_result"
    }
   ],
   "source": [
    "corr_matrix = car.corr()\n",
    "corr_matrix[\"msrp\"].sort_values(ascending=False)"
   ]
  },
  {
   "cell_type": "code",
   "execution_count": 18,
   "id": "2cec9afa",
   "metadata": {},
   "outputs": [
    {
     "data": {
      "image/png": "[encoded data removed]",
      "text/plain": [
       "<Figure size 432x288 with 2 Axes>"
      ]
     },
     "metadata": {},
     "output_type": "display_data"
    }
   ],
   "source": [
    "import seaborn as sns\n",
    "k = 8 #number of variables for heatmap\n",
    "cols = corr_matrix.nlargest(k, 'msrp')['msrp'].index\n",
    "cm = np.corrcoef(car[cols].values.T)\n",
    "sns.set(font_scale=1.25)\n",
    "hm = sns.heatmap(cm, cbar=True, annot=True, square=True, fmt='.2f', annot_kws={'size': 10}, yticklabels=cols.values, xticklabels=cols.values)\n",
    "plt.show()"
   ]
  },
  {
   "cell_type": "markdown",
   "id": "57998041",
   "metadata": {},
   "source": [
    "To prepare the data, we need to split the data into X and Y variables, thus I created two dataframe and created dummy variables for the categorical values that will be utilized in model."
   ]
  },
  {
   "cell_type": "code",
   "execution_count": 79,
   "id": "be61096a",
   "metadata": {},
   "outputs": [
    {
     "data": {
      "text/html": [
       "<div>\n",
       "<style scoped>\n",
       "    .dataframe tbody tr th:only-of-type {\n",
       "        vertical-align: middle;\n",
       "    }\n",
       "\n",
       "    .dataframe tbody tr th {\n",
       "        vertical-align: top;\n",
       "    }\n",
       "\n",
       "    .dataframe thead th {\n",
       "        text-align: right;\n",
       "    }\n",
       "</style>\n",
       "<table border=\"1\" class=\"dataframe\">\n",
       "  <thead>\n",
       "    <tr style=\"text-align: right;\">\n",
       "      <th></th>\n",
       "      <th>accelrate</th>\n",
       "      <th>mpg</th>\n",
       "      <th>C</th>\n",
       "      <th>L</th>\n",
       "      <th>M</th>\n",
       "      <th>MV</th>\n",
       "      <th>PT</th>\n",
       "      <th>SUV</th>\n",
       "      <th>TS</th>\n",
       "    </tr>\n",
       "  </thead>\n",
       "  <tbody>\n",
       "    <tr>\n",
       "      <th>0</th>\n",
       "      <td>7.46</td>\n",
       "      <td>41.26</td>\n",
       "      <td>1</td>\n",
       "      <td>0</td>\n",
       "      <td>0</td>\n",
       "      <td>0</td>\n",
       "      <td>0</td>\n",
       "      <td>0</td>\n",
       "      <td>0</td>\n",
       "    </tr>\n",
       "    <tr>\n",
       "      <th>1</th>\n",
       "      <td>8.20</td>\n",
       "      <td>54.10</td>\n",
       "      <td>1</td>\n",
       "      <td>0</td>\n",
       "      <td>0</td>\n",
       "      <td>0</td>\n",
       "      <td>0</td>\n",
       "      <td>0</td>\n",
       "      <td>0</td>\n",
       "    </tr>\n",
       "    <tr>\n",
       "      <th>2</th>\n",
       "      <td>7.97</td>\n",
       "      <td>45.23</td>\n",
       "      <td>1</td>\n",
       "      <td>0</td>\n",
       "      <td>0</td>\n",
       "      <td>0</td>\n",
       "      <td>0</td>\n",
       "      <td>0</td>\n",
       "      <td>0</td>\n",
       "    </tr>\n",
       "    <tr>\n",
       "      <th>3</th>\n",
       "      <td>9.52</td>\n",
       "      <td>53.00</td>\n",
       "      <td>0</td>\n",
       "      <td>0</td>\n",
       "      <td>0</td>\n",
       "      <td>0</td>\n",
       "      <td>0</td>\n",
       "      <td>0</td>\n",
       "      <td>1</td>\n",
       "    </tr>\n",
       "    <tr>\n",
       "      <th>4</th>\n",
       "      <td>7.04</td>\n",
       "      <td>47.04</td>\n",
       "      <td>1</td>\n",
       "      <td>0</td>\n",
       "      <td>0</td>\n",
       "      <td>0</td>\n",
       "      <td>0</td>\n",
       "      <td>0</td>\n",
       "      <td>0</td>\n",
       "    </tr>\n",
       "  </tbody>\n",
       "</table>\n",
       "</div>"
      ],
      "text/plain": [
       "   accelrate    mpg  C  L  M  MV  PT  SUV  TS\n",
       "0       7.46  41.26  1  0  0   0   0    0   0\n",
       "1       8.20  54.10  1  0  0   0   0    0   0\n",
       "2       7.97  45.23  1  0  0   0   0    0   0\n",
       "3       9.52  53.00  0  0  0   0   0    0   1\n",
       "4       7.04  47.04  1  0  0   0   0    0   0"
      ]
     },
     "execution_count": 79,
     "metadata": {},
     "output_type": "execute_result"
    }
   ],
   "source": [
    "X = car[[\n",
    "       #  'carid','vehicle','carclass_id','mpgmpge','year',\n",
    "         'carclass',\n",
    "         'accelrate','mpg']]\n",
    "Y = car[['msrp']]\n",
    "n = pd.get_dummies(car.carclass)\n",
    "X = pd.concat([X, n], axis=1)\n",
    "\n",
    "drops = ['carclass']\n",
    "X.drop(drops, inplace=True, axis=1)\n",
    "X.head()"
   ]
  },
  {
   "cell_type": "code",
   "execution_count": 36,
   "id": "dde254eb",
   "metadata": {},
   "outputs": [
    {
     "data": {
      "text/html": [
       "<table class=\"simpletable\">\n",
       "<caption>OLS Regression Results</caption>\n",
       "<tr>\n",
       "  <th>Dep. Variable:</th>          <td>msrp</td>       <th>  R-squared:         </th> <td>   0.635</td>\n",
       "</tr>\n",
       "<tr>\n",
       "  <th>Model:</th>                   <td>OLS</td>       <th>  Adj. R-squared:    </th> <td>   0.615</td>\n",
       "</tr>\n",
       "<tr>\n",
       "  <th>Method:</th>             <td>Least Squares</td>  <th>  F-statistic:       </th> <td>   31.38</td>\n",
       "</tr>\n",
       "<tr>\n",
       "  <th>Date:</th>             <td>Fri, 03 Mar 2023</td> <th>  Prob (F-statistic):</th> <td>4.96e-28</td>\n",
       "</tr>\n",
       "<tr>\n",
       "  <th>Time:</th>                 <td>12:21:14</td>     <th>  Log-Likelihood:    </th> <td> -1665.1</td>\n",
       "</tr>\n",
       "<tr>\n",
       "  <th>No. Observations:</th>      <td>   153</td>      <th>  AIC:               </th> <td>   3348.</td>\n",
       "</tr>\n",
       "<tr>\n",
       "  <th>Df Residuals:</th>          <td>   144</td>      <th>  BIC:               </th> <td>   3376.</td>\n",
       "</tr>\n",
       "<tr>\n",
       "  <th>Df Model:</th>              <td>     8</td>      <th>                     </th>     <td> </td>   \n",
       "</tr>\n",
       "<tr>\n",
       "  <th>Covariance Type:</th>      <td>nonrobust</td>    <th>                     </th>     <td> </td>   \n",
       "</tr>\n",
       "</table>\n",
       "<table class=\"simpletable\">\n",
       "<tr>\n",
       "      <td></td>         <th>coef</th>     <th>std err</th>      <th>t</th>      <th>P>|t|</th>  <th>[0.025</th>    <th>0.975]</th>  \n",
       "</tr>\n",
       "<tr>\n",
       "  <th>const</th>     <td> 1.171e+04</td> <td> 8037.863</td> <td>    1.457</td> <td> 0.147</td> <td>-4173.842</td> <td> 2.76e+04</td>\n",
       "</tr>\n",
       "<tr>\n",
       "  <th>accelrate</th> <td> 3732.9473</td> <td>  480.219</td> <td>    7.773</td> <td> 0.000</td> <td> 2783.758</td> <td> 4682.137</td>\n",
       "</tr>\n",
       "<tr>\n",
       "  <th>mpg</th>       <td> -437.6355</td> <td>  155.477</td> <td>   -2.815</td> <td> 0.006</td> <td> -744.948</td> <td> -130.323</td>\n",
       "</tr>\n",
       "<tr>\n",
       "  <th>C</th>         <td>-1475.9631</td> <td> 3136.660</td> <td>   -0.471</td> <td> 0.639</td> <td>-7675.808</td> <td> 4723.882</td>\n",
       "</tr>\n",
       "<tr>\n",
       "  <th>L</th>         <td> 2.532e+04</td> <td> 5086.013</td> <td>    4.978</td> <td> 0.000</td> <td> 1.53e+04</td> <td> 3.54e+04</td>\n",
       "</tr>\n",
       "<tr>\n",
       "  <th>M</th>         <td>-5843.4977</td> <td> 2681.409</td> <td>   -2.179</td> <td> 0.031</td> <td>-1.11e+04</td> <td> -543.492</td>\n",
       "</tr>\n",
       "<tr>\n",
       "  <th>MV</th>        <td> 1.016e+04</td> <td> 6495.697</td> <td>    1.565</td> <td> 0.120</td> <td>-2674.906</td> <td>  2.3e+04</td>\n",
       "</tr>\n",
       "<tr>\n",
       "  <th>PT</th>        <td>-7841.1231</td> <td> 5211.924</td> <td>   -1.504</td> <td> 0.135</td> <td>-1.81e+04</td> <td> 2460.636</td>\n",
       "</tr>\n",
       "<tr>\n",
       "  <th>SUV</th>       <td> -940.0233</td> <td> 2694.046</td> <td>   -0.349</td> <td> 0.728</td> <td>-6265.007</td> <td> 4384.961</td>\n",
       "</tr>\n",
       "<tr>\n",
       "  <th>TS</th>        <td>-7670.5796</td> <td> 5100.107</td> <td>   -1.504</td> <td> 0.135</td> <td>-1.78e+04</td> <td> 2410.166</td>\n",
       "</tr>\n",
       "</table>\n",
       "<table class=\"simpletable\">\n",
       "<tr>\n",
       "  <th>Omnibus:</th>       <td>34.844</td> <th>  Durbin-Watson:     </th> <td>   1.685</td>\n",
       "</tr>\n",
       "<tr>\n",
       "  <th>Prob(Omnibus):</th> <td> 0.000</td> <th>  Jarque-Bera (JB):  </th> <td>  91.111</td>\n",
       "</tr>\n",
       "<tr>\n",
       "  <th>Skew:</th>          <td> 0.903</td> <th>  Prob(JB):          </th> <td>1.64e-20</td>\n",
       "</tr>\n",
       "<tr>\n",
       "  <th>Kurtosis:</th>      <td> 6.321</td> <th>  Cond. No.          </th> <td>4.43e+17</td>\n",
       "</tr>\n",
       "</table><br/><br/>Notes:<br/>[1] Standard Errors assume that the covariance matrix of the errors is correctly specified.<br/>[2] The smallest eigenvalue is 1.14e-30. This might indicate that there are<br/>strong multicollinearity problems or that the design matrix is singular."
      ],
      "text/plain": [
       "<class 'statsmodels.iolib.summary.Summary'>\n",
       "\"\"\"\n",
       "                            OLS Regression Results                            \n",
       "==============================================================================\n",
       "Dep. Variable:                   msrp   R-squared:                       0.635\n",
       "Model:                            OLS   Adj. R-squared:                  0.615\n",
       "Method:                 Least Squares   F-statistic:                     31.38\n",
       "Date:                Fri, 03 Mar 2023   Prob (F-statistic):           4.96e-28\n",
       "Time:                        12:21:14   Log-Likelihood:                -1665.1\n",
       "No. Observations:                 153   AIC:                             3348.\n",
       "Df Residuals:                     144   BIC:                             3376.\n",
       "Df Model:                           8                                         \n",
       "Covariance Type:            nonrobust                                         \n",
       "==============================================================================\n",
       "                 coef    std err          t      P>|t|      [0.025      0.975]\n",
       "------------------------------------------------------------------------------\n",
       "const       1.171e+04   8037.863      1.457      0.147   -4173.842    2.76e+04\n",
       "accelrate   3732.9473    480.219      7.773      0.000    2783.758    4682.137\n",
       "mpg         -437.6355    155.477     -2.815      0.006    -744.948    -130.323\n",
       "C          -1475.9631   3136.660     -0.471      0.639   -7675.808    4723.882\n",
       "L           2.532e+04   5086.013      4.978      0.000    1.53e+04    3.54e+04\n",
       "M          -5843.4977   2681.409     -2.179      0.031   -1.11e+04    -543.492\n",
       "MV          1.016e+04   6495.697      1.565      0.120   -2674.906     2.3e+04\n",
       "PT         -7841.1231   5211.924     -1.504      0.135   -1.81e+04    2460.636\n",
       "SUV         -940.0233   2694.046     -0.349      0.728   -6265.007    4384.961\n",
       "TS         -7670.5796   5100.107     -1.504      0.135   -1.78e+04    2410.166\n",
       "==============================================================================\n",
       "Omnibus:                       34.844   Durbin-Watson:                   1.685\n",
       "Prob(Omnibus):                  0.000   Jarque-Bera (JB):               91.111\n",
       "Skew:                           0.903   Prob(JB):                     1.64e-20\n",
       "Kurtosis:                       6.321   Cond. No.                     4.43e+17\n",
       "==============================================================================\n",
       "\n",
       "Notes:\n",
       "[1] Standard Errors assume that the covariance matrix of the errors is correctly specified.\n",
       "[2] The smallest eigenvalue is 1.14e-30. This might indicate that there are\n",
       "strong multicollinearity problems or that the design matrix is singular.\n",
       "\"\"\""
      ]
     },
     "execution_count": 36,
     "metadata": {},
     "output_type": "execute_result"
    }
   ],
   "source": [
    "import statsmodels.api as sm\n",
    "X = sm.add_constant(X)\n",
    "model = sm.OLS(Y,X)\n",
    "results = model.fit()\n",
    "results.summary()"
   ]
  },
  {
   "cell_type": "code",
   "execution_count": 37,
   "id": "90103ef4",
   "metadata": {},
   "outputs": [
    {
     "name": "stdout",
     "output_type": "stream",
     "text": [
      "     Feature       VIF\n",
      "0      const  0.000000\n",
      "1  accelrate  1.716189\n",
      "2        mpg  2.505371\n",
      "3          C       inf\n",
      "4          L       inf\n",
      "5          M       inf\n",
      "6         MV       inf\n",
      "7         PT       inf\n",
      "8        SUV       inf\n",
      "9         TS       inf\n"
     ]
    },
    {
     "name": "stderr",
     "output_type": "stream",
     "text": [
      "/Users/jasonsitu/opt/anaconda3/lib/python3.9/site-packages/statsmodels/regression/linear_model.py:1736: RuntimeWarning: divide by zero encountered in double_scalars\n",
      "  return 1 - self.ssr/self.centered_tss\n",
      "/Users/jasonsitu/opt/anaconda3/lib/python3.9/site-packages/statsmodels/stats/outliers_influence.py:195: RuntimeWarning: divide by zero encountered in double_scalars\n",
      "  vif = 1. / (1. - r_squared_i)\n"
     ]
    }
   ],
   "source": [
    "#I noticed the multicollinearity problem from the stat result and want to make sure it isn't the numberical values. \n",
    "\n",
    "import pandas as pd\n",
    "from statsmodels.stats.outliers_influence import variance_inflation_factor\n",
    "\n",
    "\n",
    "# Calculate VIF for each feature\n",
    "vif = pd.DataFrame()\n",
    "vif[\"Feature\"] = X.columns\n",
    "vif[\"VIF\"] = [variance_inflation_factor(X.values, i) for i in range(X.shape[1])]\n",
    "\n",
    "# Print the VIF for each feature\n",
    "print(vif)"
   ]
  },
  {
   "cell_type": "markdown",
   "id": "4ad4d057",
   "metadata": {},
   "source": [
    "Next step is to split and train the data into linear regression, random forest and gradient boosting model and see the fit and accuracy of each model. The first step is to standardize all the X variables and then splitting them into training and testing set. "
   ]
  },
  {
   "cell_type": "code",
   "execution_count": 71,
   "id": "049dd30f",
   "metadata": {},
   "outputs": [
    {
     "data": {
      "text/plain": [
       "array([[-1.53500863,  0.59090995,  1.94454365, ..., -0.20203051,\n",
       "        -0.58489765, -0.23488809],\n",
       "       [-1.28250064,  1.76494881,  1.94454365, ..., -0.20203051,\n",
       "        -0.58489765, -0.23488809],\n",
       "       [-1.36098285,  0.95391106,  1.94454365, ..., -0.20203051,\n",
       "        -0.58489765, -0.23488809],\n",
       "       ...,\n",
       "       [-0.06773245,  0.75000867, -0.51425948, ..., -0.20203051,\n",
       "        -0.58489765, -0.23488809],\n",
       "       [-0.06773245,  0.75000867, -0.51425948, ..., -0.20203051,\n",
       "        -0.58489765, -0.23488809],\n",
       "       [-0.28953001,  0.20139238,  1.94454365, ..., -0.20203051,\n",
       "        -0.58489765, -0.23488809]])"
      ]
     },
     "execution_count": 71,
     "metadata": {},
     "output_type": "execute_result"
    }
   ],
   "source": [
    "from sklearn.preprocessing import StandardScaler\n",
    "scaler = StandardScaler()\n",
    "X = scaler.fit_transform(X)\n",
    "X"
   ]
  },
  {
   "cell_type": "code",
   "execution_count": 80,
   "id": "4b19d55e",
   "metadata": {},
   "outputs": [],
   "source": [
    "from sklearn.model_selection import train_test_split\n",
    "\n",
    "X_train, X_test, y_train, y_test = train_test_split(X, Y, test_size=0.10, random_state = 200)"
   ]
  },
  {
   "cell_type": "code",
   "execution_count": 81,
   "id": "1b66b468",
   "metadata": {},
   "outputs": [
    {
     "data": {
      "text/plain": [
       "0.8315510468130687"
      ]
     },
     "execution_count": 81,
     "metadata": {},
     "output_type": "execute_result"
    }
   ],
   "source": [
    "from sklearn.linear_model import LinearRegression\n",
    "regressor = LinearRegression()\n",
    "regressor.fit(X_train, y_train)\n",
    "regressor.score(X_test,y_test)"
   ]
  },
  {
   "cell_type": "code",
   "execution_count": 82,
   "id": "fd267ee9",
   "metadata": {},
   "outputs": [
    {
     "name": "stdout",
     "output_type": "stream",
     "text": [
      "Liner Regression R squared: 0.8316\n"
     ]
    }
   ],
   "source": [
    "y_pred = regressor.predict(X_test)\n",
    "print('Liner Regression R squared: %.4f' % regressor.score(X_test, y_test))"
   ]
  },
  {
   "cell_type": "code",
   "execution_count": 83,
   "id": "d89471e7",
   "metadata": {},
   "outputs": [
    {
     "name": "stdout",
     "output_type": "stream",
     "text": [
      "Liner Regression RMSE: 11224.6689\n"
     ]
    }
   ],
   "source": [
    "import numpy as np\n",
    "from sklearn.metrics import mean_squared_error\n",
    "lin_mse = mean_squared_error(y_pred, y_test)\n",
    "lin_rmse = np.sqrt(lin_mse) \n",
    "\n",
    "print('Liner Regression RMSE: %.4f' % lin_rmse)"
   ]
  },
  {
   "cell_type": "code",
   "execution_count": 84,
   "id": "48399079",
   "metadata": {},
   "outputs": [
    {
     "name": "stdout",
     "output_type": "stream",
     "text": [
      "Random Forest R squared\": 0.8614\n"
     ]
    },
    {
     "name": "stderr",
     "output_type": "stream",
     "text": [
      "/var/folders/6n/5k2skb5s4332svcnkn8pt3r40000gn/T/ipykernel_51012/3782183417.py:3: DataConversionWarning: A column-vector y was passed when a 1d array was expected. Please change the shape of y to (n_samples,), for example using ravel().\n",
      "  forest_reg.fit(X_train, y_train)\n"
     ]
    }
   ],
   "source": [
    "from sklearn.ensemble import RandomForestRegressor\n",
    "forest_reg = RandomForestRegressor(random_state=100)\n",
    "forest_reg.fit(X_train, y_train)\n",
    "print('Random Forest R squared\": %.4f' % forest_reg.score(X_test, y_test))"
   ]
  },
  {
   "cell_type": "code",
   "execution_count": 85,
   "id": "1b64c06f",
   "metadata": {},
   "outputs": [
    {
     "data": {
      "image/png": "[encoded data removed]",
      "text/plain": [
       "<Figure size 432x288 with 1 Axes>"
      ]
     },
     "metadata": {},
     "output_type": "display_data"
    }
   ],
   "source": [
    "feat_importances = forest_reg.feature_importances_\n",
    "indices = np.argsort(feat_importances)[::-1]\n",
    "plt.figure()\n",
    "plt.title(\"Feature importances\")\n",
    "plt.bar(range(X.shape[1]), feat_importances[indices])\n",
    "plt.xticks(range(X.shape[1]), X.columns[indices], rotation='vertical')\n",
    "plt.show()"
   ]
  },
  {
   "cell_type": "code",
   "execution_count": 61,
   "id": "803e2afd",
   "metadata": {},
   "outputs": [
    {
     "name": "stdout",
     "output_type": "stream",
     "text": [
      "Random Forest RMSE: 10192.7995\n"
     ]
    }
   ],
   "source": [
    "y_pred = forest_reg.predict(X_test)\n",
    "\n",
    "forest_mse = mean_squared_error(y_pred, y_test)\n",
    "\n",
    "forest_rmse = np.sqrt(forest_mse)\n",
    "\n",
    "print('Random Forest RMSE: %.4f' % forest_rmse)"
   ]
  },
  {
   "cell_type": "code",
   "execution_count": 62,
   "id": "1aee2f43",
   "metadata": {},
   "outputs": [
    {
     "name": "stdout",
     "output_type": "stream",
     "text": [
      "Gradient Boosting R squared\": 0.8282\n"
     ]
    },
    {
     "name": "stderr",
     "output_type": "stream",
     "text": [
      "/Users/jasonsitu/opt/anaconda3/lib/python3.9/site-packages/sklearn/ensemble/_gb.py:494: DataConversionWarning: A column-vector y was passed when a 1d array was expected. Please change the shape of y to (n_samples, ), for example using ravel().\n",
      "  y = column_or_1d(y, warn=True)\n"
     ]
    }
   ],
   "source": [
    "from sklearn import ensemble\n",
    "from sklearn.ensemble import GradientBoostingRegressor\n",
    "model = ensemble.GradientBoostingRegressor()\n",
    "model.fit(X_train, y_train)\n",
    "print('Gradient Boosting R squared\": %.4f' % model.score(X_test, y_test))\n"
   ]
  },
  {
   "cell_type": "code",
   "execution_count": 63,
   "id": "74288a89",
   "metadata": {},
   "outputs": [
    {
     "name": "stdout",
     "output_type": "stream",
     "text": [
      "Gradient Boosting RMSE: 11336.2305\n"
     ]
    }
   ],
   "source": [
    "y_pred = model.predict(X_test)\n",
    "\n",
    "model_mse = mean_squared_error(y_pred, y_test)\n",
    "\n",
    "model_rmse = np.sqrt(model_mse)\n",
    "\n",
    "print('Gradient Boosting RMSE: %.4f' % model_rmse)"
   ]
  },
  {
   "cell_type": "markdown",
   "id": "7c6932ce",
   "metadata": {},
   "source": [
    "## Conclusion:\n",
    "\n",
    "After testing multiple models and and parameters, we can see that random forest had the best fit with an R squared of .86 and RMSE of 10192, which isn't bad since the mean MSRP is 39318. Of course if we had more variables and more data, our models can improve overtime but it isn't bad given we had less than 200 rows of data. I am not surprised that the random forest model performed better since it is a model that can handle non linear and complex variables better than the linear regression model. We can also see that in the feature importance chart that mge and acclerate has the most importances to the model which was the same when using regression based model. \n",
    "\n",
    "I provided alot of my reasoning and thought process below when answering the exercise questions. \n"
   ]
  },
  {
   "cell_type": "markdown",
   "id": "dc4d46fe",
   "metadata": {},
   "source": [
    "## Exercise\n",
    "\n",
    "Using R, Python, or another statistical package, perform a regression on this data to model MSRP (price) as a function of other inputs from the data, and then answer these questions. Please share your code and full analysis. \n",
    "\n",
    "Though not a requirement, consider using R Markdown or Jupyter Notebook to annotate your work. Another option would be to thoroughly comment in-file.\n",
    "\n",
    "1. What does your model tell you about hybrid vehicle pricing? What insights can you draw?\n",
    "- After building a correlation matrix and a regression model, we see that the acclerate, mpg and car class variables has a significant impact into the MSRP (Price). \n",
    "\n",
    "2. Did you use a standard linear regression model or a different type, and if so, why?\n",
    "- I used linear regression, random forest and Gradient boosting as my model of choice.\n",
    "- Linear regression models are commonly used for regression analysis due to their simplicity and interpretability. Linear regression models are easy to understand and implement, and can provide insights into the relationship between the variables. However, they may not capture complex non-linear relationships between variables and may suffer from issues such as multicollinearity, heteroscedasticity, and outliers. Random forest models and gradient boosting models are two popular ensemble methods used for regression analysis. Random forest models and gradient boosting models are particularly useful when there are non-linear relationships between variables or when interactions between variables are important. They are generally more robust than linear regression models and can handle missing data and outliers better. However, they can be more complex and difficult to interpret than linear regression models. Linear regression models may be sufficient for simple problems with few variables and a linear relationship, while random forest models and gradient boosting models may be more appropriate for complex problems with many variables and non-linear relationships. It is often a good idea to try multiple models and compare their performance to determine which one is the best fit for the data.\n",
    "\n",
    "3. Which variables did you choose to include and exclude from your model and why? Did you define any of your own explanatory variables from the data?\n",
    "- For this project, I decided to include acclerate, mpg, and carclass variables and excluded the rest.\n",
    "- The reason for excluding each variable is as listed below\n",
    "    - excluding car id is because it serve no purpose than indexing each row. \n",
    "    - car class id is a categorical variable and is 1:1 with car class, thus removing one of the dupes\n",
    "    - Year and Vehicle had potential but I saw no statistical signifcance in their constant coeffeicent, thus did not add them into the model. This doesn't mean these variable doesn't add value to the price of a hybrid car.\n",
    "    - I made the trade off call for a more simpler model for easier interpretation, than a more complex model with harder interpretation given the limited data source and information I have.\n",
    "\n",
    "4. Which variables have significant explanatory power on hybrid vehicle pricing? Which do not? Is this surprising?\n",
    "- I choice to keep all the variables that had significant power on hybrid vehicle pricing, which in this case was acclerate, mpg and carclass. I was not surprised by the outcome because after plotting a scatter plot of the relationship between varies dependent variable to the independent variable(MSRP), we can see the obvious relationship between varies X values to the Y value.\n",
    "- After testing different set of variables, I concluded that vehicle and year had no statistical significance. I wasn't surprise at all since these didn't have a linear relationship to MSRP.\n",
    "\n",
    "5. How confident are you in your model's fit? Why?\n",
    "- I am confident in my model's fit because I only allocated statistical signnficance variables into the model. Based on testing my models fit and their RMSE (root mean squared error). I am confident in the accuracy of these models. I would be less confident if we included more variables that didn't have any linear relationship or non linear relationship to the model because that could potential cause more noise and errors within the models unless we tranform the dataset even more or utilize more complex models. \n"
   ]
  }
 ],
 "metadata": {
  "kernelspec": {
   "display_name": "Python 3 (ipykernel)",
   "language": "python",
   "name": "python3"
  },
  "language_info": {
   "codemirror_mode": {
    "name": "ipython",
    "version": 3
   },
   "file_extension": ".py",
   "mimetype": "text/x-python",
   "name": "python",
   "nbconvert_exporter": "python",
   "pygments_lexer": "ipython3",
   "version": "3.9.12"
  }
 },
 "nbformat": 4,
 "nbformat_minor": 5
}
